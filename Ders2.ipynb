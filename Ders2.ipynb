{
  "nbformat": 4,
  "nbformat_minor": 0,
  "metadata": {
    "colab": {
      "provenance": []
    },
    "kernelspec": {
      "name": "python3",
      "display_name": "Python 3"
    },
    "language_info": {
      "name": "python"
    }
  },
  "cells": [
    {
      "cell_type": "code",
      "execution_count": 1,
      "metadata": {
        "colab": {
          "base_uri": "https://localhost:8080/"
        },
        "id": "azBI4B2pqQPN",
        "outputId": "94262214-d1f7-4676-a5e0-5f66e98c2efb"
      },
      "outputs": [
        {
          "output_type": "stream",
          "name": "stdout",
          "text": [
            "Merhaba, İGÜ - İSTKA!\n"
          ]
        }
      ],
      "source": [
        "print(\"Merhaba, İGÜ - İSTKA!\") # print ekrana çıktı veren bir koddur."
      ]
    },
    {
      "cell_type": "code",
      "source": [
        "import sys # import python programlama dilinde yazılıma kütüphane eklemeye yarayan bir kod blogudur.\n",
        "print(sys.version)"
      ],
      "metadata": {
        "colab": {
          "base_uri": "https://localhost:8080/"
        },
        "id": "be9hzMAhqd-l",
        "outputId": "ab5333b3-8b41-4d57-b74f-26c63521b2dd"
      },
      "execution_count": 2,
      "outputs": [
        {
          "output_type": "stream",
          "name": "stdout",
          "text": [
            "3.10.12 (main, Jul 29 2024, 16:56:48) [GCC 11.4.0]\n"
          ]
        }
      ]
    },
    {
      "cell_type": "code",
      "source": [
        "from google.colab import drive # google colab - drive bağlantısı\n",
        "\n",
        "drive.mount('/content/drive')"
      ],
      "metadata": {
        "colab": {
          "base_uri": "https://localhost:8080/"
        },
        "id": "K5uczlL4qhv9",
        "outputId": "9a1b8ece-28ae-4eee-b4ac-3ceda25405be"
      },
      "execution_count": 3,
      "outputs": [
        {
          "output_type": "stream",
          "name": "stdout",
          "text": [
            "Mounted at /content/drive\n"
          ]
        }
      ]
    },
    {
      "cell_type": "code",
      "source": [
        "import os\n",
        "\n",
        "os.chdir('/content/drive/My Drive/VERIYAPILARI_ISTKA')\n",
        "\n",
        "!pwd # bize kodun çıktısını dosya yolu olarak veren kod blogudur."
      ],
      "metadata": {
        "colab": {
          "base_uri": "https://localhost:8080/"
        },
        "id": "-Z-zotaFqiSl",
        "outputId": "c8a6b7dc-9094-40b1-dcf7-1a8b78584634"
      },
      "execution_count": 4,
      "outputs": [
        {
          "output_type": "stream",
          "name": "stdout",
          "text": [
            "/content/drive/My Drive/VERIYAPILARI_ISTKA\n"
          ]
        }
      ]
    },
    {
      "cell_type": "code",
      "source": [
        "# Geçerli değişken tanımlaması\n",
        "degisken_1 = 10\n",
        "Degisken2 = 20\n",
        "_degisken3 = 30"
      ],
      "metadata": {
        "id": "uzSe2FVyrav-"
      },
      "execution_count": 5,
      "outputs": []
    },
    {
      "cell_type": "code",
      "source": [
        "# Geçersiz değişken tanımlaması\n",
        "1degisken = 40\n",
        "degisken-4 = 50"
      ],
      "metadata": {
        "colab": {
          "base_uri": "https://localhost:8080/",
          "height": 111
        },
        "id": "Ayk0vxjqvkKS",
        "outputId": "e4f6e5bf-c40c-4707-d9cd-07fac995d120"
      },
      "execution_count": 6,
      "outputs": [
        {
          "output_type": "error",
          "ename": "SyntaxError",
          "evalue": "invalid decimal literal (<ipython-input-6-7cd3bbcf57d9>, line 2)",
          "traceback": [
            "\u001b[0;36m  File \u001b[0;32m\"<ipython-input-6-7cd3bbcf57d9>\"\u001b[0;36m, line \u001b[0;32m2\u001b[0m\n\u001b[0;31m    1degisken = 40\u001b[0m\n\u001b[0m    ^\u001b[0m\n\u001b[0;31mSyntaxError\u001b[0m\u001b[0;31m:\u001b[0m invalid decimal literal\n"
          ]
        }
      ]
    },
    {
      "cell_type": "code",
      "source": [
        "# Değişken Tanımlama İşlemi\n",
        "\n",
        "x= 5\n",
        "y= \"Merhaba Dunya\"\n",
        "\n",
        "print(x)\n",
        "print(y)"
      ],
      "metadata": {
        "colab": {
          "base_uri": "https://localhost:8080/"
        },
        "id": "Ox10-C_PwMzq",
        "outputId": "ae0f9906-9af8-4aee-983c-dee8c4247589"
      },
      "execution_count": 7,
      "outputs": [
        {
          "output_type": "stream",
          "name": "stdout",
          "text": [
            "5\n",
            "Merhaba Dunya\n"
          ]
        }
      ]
    },
    {
      "cell_type": "code",
      "source": [
        "# Integer - Tamsayı tanımlaması\n",
        "\n",
        "a = 10\n",
        "print(type(a))"
      ],
      "metadata": {
        "colab": {
          "base_uri": "https://localhost:8080/"
        },
        "id": "j6dqy2pgwtT1",
        "outputId": "7de146c3-fa46-42e8-d1da-fbe4537b7fdd"
      },
      "execution_count": 8,
      "outputs": [
        {
          "output_type": "stream",
          "name": "stdout",
          "text": [
            "<class 'int'>\n"
          ]
        }
      ]
    },
    {
      "cell_type": "code",
      "source": [
        "# Float - Ondalıklı Sayı tanımlaması\n",
        "\n",
        "b = 20.5\n",
        "print(type(b))"
      ],
      "metadata": {
        "colab": {
          "base_uri": "https://localhost:8080/"
        },
        "id": "JeqKl4Uc4FCD",
        "outputId": "8315ea97-b696-4990-da01-fede24290f2e"
      },
      "execution_count": 9,
      "outputs": [
        {
          "output_type": "stream",
          "name": "stdout",
          "text": [
            "<class 'float'>\n"
          ]
        }
      ]
    },
    {
      "cell_type": "code",
      "source": [
        "# int'ten float'a çevrimin gerçekleştirilmesi\n",
        "x = 10\n",
        "y = float(x)\n",
        "print(y, type(y))"
      ],
      "metadata": {
        "colab": {
          "base_uri": "https://localhost:8080/"
        },
        "id": "CRT9p-Xo6d2O",
        "outputId": "eb3e3670-b83f-4abd-e471-5c73d68925a4"
      },
      "execution_count": 11,
      "outputs": [
        {
          "output_type": "stream",
          "name": "stdout",
          "text": [
            "10.0 <class 'float'>\n"
          ]
        }
      ]
    },
    {
      "cell_type": "code",
      "source": [
        "# float'tan int'e çevrimin gerçekleştirilmesi\n",
        "a = 12.34\n",
        "b = int(a)\n",
        "print(b, type(b))"
      ],
      "metadata": {
        "colab": {
          "base_uri": "https://localhost:8080/"
        },
        "id": "NI7H5ZUx6iNP",
        "outputId": "307e4475-8c93-4053-f7b4-e7badba38254"
      },
      "execution_count": 12,
      "outputs": [
        {
          "output_type": "stream",
          "name": "stdout",
          "text": [
            "12 <class 'int'>\n"
          ]
        }
      ]
    },
    {
      "cell_type": "code",
      "source": [
        "# String - Metinsel içerik tanımlaması\n",
        "\n",
        "c = \"Python Programlama\"\n",
        "print(c, type(c))"
      ],
      "metadata": {
        "colab": {
          "base_uri": "https://localhost:8080/"
        },
        "id": "byIxM9ZH7LVd",
        "outputId": "68df7692-46d4-44a6-9f1d-f8e9817c1f6d"
      },
      "execution_count": 15,
      "outputs": [
        {
          "output_type": "stream",
          "name": "stdout",
          "text": [
            "Python Programlama <class 'str'>\n"
          ]
        }
      ]
    },
    {
      "cell_type": "code",
      "source": [
        "# Boolean (True - False) - Doğru / Yanlış tanımlaması\n",
        "\n",
        "d = True\n",
        "e = False\n",
        "print(d)\n",
        "print(e, type(e))"
      ],
      "metadata": {
        "colab": {
          "base_uri": "https://localhost:8080/"
        },
        "id": "TJLc4xdv7ZdQ",
        "outputId": "0147523c-14c6-4626-a68e-fbb5bed2b377"
      },
      "execution_count": 17,
      "outputs": [
        {
          "output_type": "stream",
          "name": "stdout",
          "text": [
            "True\n",
            "False <class 'bool'>\n"
          ]
        }
      ]
    },
    {
      "cell_type": "code",
      "source": [
        "# List - Liste tanımlaması\n",
        "\n",
        "my_list = [10, 20, 30, 40, 50]\n",
        "print(type(my_list))\n",
        "print(my_list)"
      ],
      "metadata": {
        "colab": {
          "base_uri": "https://localhost:8080/"
        },
        "id": "gtSCjLRE8dca",
        "outputId": "c6cbfd6a-cee8-46db-ba6d-4b6cc3799506"
      },
      "execution_count": 20,
      "outputs": [
        {
          "output_type": "stream",
          "name": "stdout",
          "text": [
            "<class 'list'>\n",
            "[10, 20, 30, 40, 50]\n"
          ]
        }
      ]
    },
    {
      "cell_type": "code",
      "source": [
        "# Tuple - Demet tanımlaması\n",
        "\n",
        "my_tuple = (10, 20, 30, 40, 50)\n",
        "print(type(my_tuple))\n",
        "print(my_tuple)"
      ],
      "metadata": {
        "colab": {
          "base_uri": "https://localhost:8080/"
        },
        "id": "NdNVtIXV9-Eg",
        "outputId": "596bf4cc-8b3e-4c6b-b877-ec5593b3ffa9"
      },
      "execution_count": 21,
      "outputs": [
        {
          "output_type": "stream",
          "name": "stdout",
          "text": [
            "<class 'tuple'>\n",
            "(10, 20, 30, 40, 50)\n"
          ]
        }
      ]
    },
    {
      "cell_type": "code",
      "source": [
        "# Dictionary - Sözlük Örneği -> Öğrencilerin notlarını tutan bir sözlük\n",
        "notlar = {\n",
        "    \"Ali\": 85,\n",
        "    \"Veli\": 90,\n",
        "    \"Ayşe\": 78\n",
        "}\n",
        "\n",
        "notlar[\"Fatma\"] = 92 # Yeni öğrenci ekleme\n",
        "\n",
        "notlar[\"Ali\"] = 88 # Bir öğrencinin notunu güncelleme\n",
        "\n",
        "print(notlar)"
      ],
      "metadata": {
        "colab": {
          "base_uri": "https://localhost:8080/"
        },
        "id": "7EO3FYq_-BWw",
        "outputId": "7e211c12-9dfc-4232-d306-00d3110f753c"
      },
      "execution_count": 24,
      "outputs": [
        {
          "output_type": "stream",
          "name": "stdout",
          "text": [
            "{'Ali': 88, 'Veli': 90, 'Ayşe': 78, 'Fatma': 92}\n"
          ]
        }
      ]
    },
    {
      "cell_type": "code",
      "source": [
        "print(notlar.keys())\n",
        "print(notlar.values())\n",
        "print(notlar.items())"
      ],
      "metadata": {
        "colab": {
          "base_uri": "https://localhost:8080/"
        },
        "id": "6JHNUsqr_mDM",
        "outputId": "1c4a23cc-fff2-426e-81b3-4e992b075f42"
      },
      "execution_count": 26,
      "outputs": [
        {
          "output_type": "stream",
          "name": "stdout",
          "text": [
            "dict_keys(['Ali', 'Veli', 'Ayşe', 'Fatma'])\n",
            "dict_values([88, 90, 78, 92])\n",
            "dict_items([('Ali', 88), ('Veli', 90), ('Ayşe', 78), ('Fatma', 92)])\n"
          ]
        }
      ]
    },
    {
      "cell_type": "code",
      "source": [
        "# Set - Küme Örneği -> Bir yazılım etkinliğine katılan kişilerin oluşturduğu kümeler\n",
        "kodyazanlar = {\"Ahmet\", \"Mehmet\", \"Ayşe\"}\n",
        "kodyazmayanlar = {\"Ayşe\", \"Fatma\", \"Veli\"}\n",
        "\n",
        "# Kafasına Göre Takılan Öğrenciler\n",
        "ortak = kodyazanlar.intersection(kodyazmayanlar)\n",
        "print(\"Kafasına Göre Takılan Öğrencilerin Listesi:\", ortak)\n",
        "\n",
        "# Etkinlikte Kod Çalışması Yapmayan Öğrencilerin Tespiti\n",
        "Kod_yazmayan = kodyazmayanlar.difference(kodyazanlar)\n",
        "print(\"Kod çalışması yapmayan öğrenci listesi:\", Kod_yazmayan)\n",
        "\n",
        "# Yazılım Eğitiminin Öğrenci İmza Listesi\n",
        "imza_listesi = kodyazanlar.union(kodyazmayanlar)\n",
        "print(\"Etkinlik katılımcıları:\", imza_listesi)"
      ],
      "metadata": {
        "colab": {
          "base_uri": "https://localhost:8080/"
        },
        "id": "yw8bmjkhAyUS",
        "outputId": "b3d6f385-17f6-4703-970b-36818d319508"
      },
      "execution_count": 27,
      "outputs": [
        {
          "output_type": "stream",
          "name": "stdout",
          "text": [
            "Kafasına Göre Takılan Öğrencilerin Listesi: {'Ayşe'}\n",
            "Kod çalışması yapmayan öğrenci listesi: {'Fatma', 'Veli'}\n",
            "Etkinlik katılımcıları: {'Ayşe', 'Ahmet', 'Mehmet', 'Fatma', 'Veli'}\n"
          ]
        }
      ]
    },
    {
      "cell_type": "code",
      "source": [
        "giris = input(\"Bir sayı girin: \")\n",
        "try:\n",
        "    num = float(giris)\n",
        "    print(f\"Girilen sayı: {num}, tipi: {type(num)},\", abs(num))\n",
        "except ValueError:\n",
        "    print(\"Geçersiz veri girdiniz.\")"
      ],
      "metadata": {
        "colab": {
          "base_uri": "https://localhost:8080/"
        },
        "id": "sZ9Xzl6aCBai",
        "outputId": "b80c2a8c-8c40-45e7-c300-b24868401a1b"
      },
      "execution_count": 30,
      "outputs": [
        {
          "output_type": "stream",
          "name": "stdout",
          "text": [
            "Bir sayı girin: 34\n",
            "Girilen sayı: 34.0, tipi: <class 'float'>, 34.0\n"
          ]
        }
      ]
    },
    {
      "cell_type": "code",
      "source": [
        "# 0 ile 1 arasında rastgele bir ondalık sayı üretir\n",
        "\n",
        "import random\n",
        "\n",
        "rastgele_float = random.random()\n",
        "print(\"Rastgele Deger:\", rastgele_float)"
      ],
      "metadata": {
        "colab": {
          "base_uri": "https://localhost:8080/"
        },
        "id": "vrs6UjpSEC0N",
        "outputId": "acf34eec-25f1-499c-dcc7-4999852e70f4"
      },
      "execution_count": 31,
      "outputs": [
        {
          "output_type": "stream",
          "name": "stdout",
          "text": [
            "Rastgele Deger: 0.56888283226299\n"
          ]
        }
      ]
    },
    {
      "cell_type": "code",
      "source": [
        "# 1 ile 10 arasında (her iki sınır dahil) rastgele bir tam sayı üretir\n",
        "\n",
        "import random\n",
        "\n",
        "rastgele_sayi = random.randint(1, 50)\n",
        "print(\"Rastgele Deger:\", rastgele_sayi)"
      ],
      "metadata": {
        "colab": {
          "base_uri": "https://localhost:8080/"
        },
        "id": "Hl7tWtTAEsuo",
        "outputId": "3ecd600f-9ab4-4b52-c253-a90e5fd6d4bd"
      },
      "execution_count": 35,
      "outputs": [
        {
          "output_type": "stream",
          "name": "stdout",
          "text": [
            "Rastgele Deger: 27\n"
          ]
        }
      ]
    }
  ]
}
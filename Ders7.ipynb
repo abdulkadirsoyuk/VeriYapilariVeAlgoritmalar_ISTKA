{
  "nbformat": 4,
  "nbformat_minor": 0,
  "metadata": {
    "colab": {
      "provenance": [],
      "toc_visible": true
    },
    "kernelspec": {
      "name": "python3",
      "display_name": "Python 3"
    },
    "language_info": {
      "name": "python"
    }
  },
  "cells": [
    {
      "cell_type": "code",
      "source": [
        "print(\"Merhaba, İGÜ - İSTKA / Ders 7\") # print ekrana çıktı veren bir koddur."
      ],
      "metadata": {
        "colab": {
          "base_uri": "https://localhost:8080/"
        },
        "id": "lf_2p2W--rB3",
        "outputId": "ba81e82a-11c4-4a2b-9695-ebb3639dd0b8"
      },
      "execution_count": null,
      "outputs": [
        {
          "output_type": "stream",
          "name": "stdout",
          "text": [
            "Merhaba, İGÜ - İSTKA / Ders 7\n"
          ]
        }
      ]
    },
    {
      "cell_type": "code",
      "source": [
        "import sys # import python programlama dilinde yazılıma kütüphane eklemeye yarayan bir kod blogudur.\n",
        "print(sys.version)"
      ],
      "metadata": {
        "colab": {
          "base_uri": "https://localhost:8080/"
        },
        "id": "P-5hva6G-sU_",
        "outputId": "853fb3da-8351-486d-f374-dd802e2fc549"
      },
      "execution_count": null,
      "outputs": [
        {
          "output_type": "stream",
          "name": "stdout",
          "text": [
            "3.10.12 (main, Jul 29 2024, 16:56:48) [GCC 11.4.0]\n"
          ]
        }
      ]
    },
    {
      "cell_type": "code",
      "source": [
        "from google.colab import drive # google colab - drive bağlantısı\n",
        "\n",
        "drive.mount('/content/drive')"
      ],
      "metadata": {
        "colab": {
          "base_uri": "https://localhost:8080/"
        },
        "id": "fVWSAyAH-t-4",
        "outputId": "5e70d709-c544-43e5-ecce-15d863b60eb6"
      },
      "execution_count": null,
      "outputs": [
        {
          "output_type": "stream",
          "name": "stdout",
          "text": [
            "Drive already mounted at /content/drive; to attempt to forcibly remount, call drive.mount(\"/content/drive\", force_remount=True).\n"
          ]
        }
      ]
    },
    {
      "cell_type": "code",
      "source": [
        "import os\n",
        "\n",
        "os.chdir('/content/drive/My Drive/VERIYAPILARI_ISTKA')\n",
        "\n",
        "!pwd # bize kodun çıktısını dosya yolu olarak veren kod blogudur."
      ],
      "metadata": {
        "colab": {
          "base_uri": "https://localhost:8080/"
        },
        "id": "6gX5Do47-vQO",
        "outputId": "640e6f38-65e7-4d34-b051-0e66d1874c65"
      },
      "execution_count": null,
      "outputs": [
        {
          "output_type": "stream",
          "name": "stdout",
          "text": [
            "/content/drive/My Drive/VERIYAPILARI_ISTKA\n"
          ]
        }
      ]
    },
    {
      "cell_type": "markdown",
      "source": [
        "#9. Soru Cevabı"
      ],
      "metadata": {
        "id": "PwaVHhjW-6Fu"
      }
    },
    {
      "cell_type": "code",
      "source": [
        "isim_listesi = [\"Ali\", \"Şeraffettin\", \"Osman\",\"İclal\",\"Ayşe\"]\n",
        "#en uzun ismi bulan fonk\n",
        "def en_uzun_isim_bul(isim_listesi):\n",
        "  en_uzun_isim_bul = \"\"\n",
        "  for isim in isim_listesi:\n",
        "    if len(isim) > len(en_uzun_isim_bul):\n",
        "      en_uzun_isim_bul = isim\n",
        "  return en_uzun_isim_bul\n",
        "\n",
        "#en uzun ismin indexi bulan fonk\n",
        "def en_uzun_isim_index(isim_listesi):\n",
        "  en_uzun_isim_bul = en_uzun_isim_bul(isim_listesi)\n",
        "  en_uzun_isim_index = isim_listesi.index(en_uzun_isim_bul)\n",
        "  return en_uzun_isim_index\n",
        "\n",
        "\n",
        "\n",
        "en_uzun_isim_bul=en_uzun_isim_bul(isim_listesi)\n",
        "en_uzun_isim_index=isim_listesi.index(en_uzun_isim_bul)\n",
        "\n",
        "print(\"En uzun isim: \",en_uzun_isim_bul)\n",
        "print(\"En uzun isim indexi: \",en_uzun_isim_index)"
      ],
      "metadata": {
        "colab": {
          "base_uri": "https://localhost:8080/"
        },
        "id": "F-LK2X20-vFG",
        "outputId": "d43957c3-626a-4b1b-a5bb-c84f77df6f96"
      },
      "execution_count": 2,
      "outputs": [
        {
          "output_type": "stream",
          "name": "stdout",
          "text": [
            "En uzun isim:  Şeraffettin\n",
            "En uzun isim indexi:  1\n"
          ]
        }
      ]
    },
    {
      "cell_type": "markdown",
      "source": [
        "#10. Soru Cevabı"
      ],
      "metadata": {
        "id": "ITNUroxy_A_W"
      }
    },
    {
      "cell_type": "code",
      "source": [
        "sayi_dizisi = []\n",
        "sayi=1\n",
        "\n",
        "while sayi <= 175:\n",
        "  if sayi % 13 == 0:\n",
        "    sayi_dizisi.append(sayi)\n",
        "  sayi += 1\n",
        "\n",
        "print(\"1 ile 175 arasındaki sayılar: \" ,sayi_dizisi)\n",
        "print(\"Toplam sayı adeti:\",len(sayi_dizisi))"
      ],
      "metadata": {
        "colab": {
          "base_uri": "https://localhost:8080/"
        },
        "id": "0y-WF7fg-umX",
        "outputId": "5283bafc-78bd-4852-b399-97e0c5ef7b93"
      },
      "execution_count": 3,
      "outputs": [
        {
          "output_type": "stream",
          "name": "stdout",
          "text": [
            "1 ile 175 arasındaki sayılar:  [13, 26, 39, 52, 65, 78, 91, 104, 117, 130, 143, 156, 169]\n",
            "Toplam sayı adeti: 13\n"
          ]
        }
      ]
    },
    {
      "cell_type": "code",
      "execution_count": null,
      "metadata": {
        "colab": {
          "base_uri": "https://localhost:8080/"
        },
        "id": "LwzQlV3NqbMi",
        "outputId": "df52e74a-03c2-40b2-893e-f661a2241a2d"
      },
      "outputs": [
        {
          "output_type": "stream",
          "name": "stdout",
          "text": [
            "atktan-geri-kazanm-miktarlar.xlsx dosyası CSV formatına çevrildi.\n"
          ]
        }
      ],
      "source": [
        "import pandas as pd\n",
        "\n",
        "VeriSetiYolu = '/content/drive/My Drive/VERIYAPILARI_ISTKA/veriseti'\n",
        "\n",
        "for file in os.listdir(VeriSetiYolu):                         # Klasördeki tüm dosyaları listele\n",
        "\n",
        "    if file.endswith(('.xlsx', '.xls')):                     # Sadece Excel dosyalarını seç\n",
        "\n",
        "        df = pd.read_excel(os.path.join(VeriSetiYolu, file))  # Excel dosyasını pandas ile oku\n",
        "\n",
        "        df.to_csv(os.path.join(VeriSetiYolu, file.rsplit('.', 1)[0] + '.csv'), index=False)\n",
        "                                                               # DataFrame'i CSV formatında kaydet\n",
        "        print(f\"{file} dosyası CSV formatına çevrildi.\")     # Çevrim İşlemi Çıktısı\n",
        "\n",
        "# İşlem tamamlandığında kaç tane excel dosyası var ise o kadar *.csv formatına çevildiğinin\n",
        "# bilgisini almaktayız"
      ]
    },
    {
      "cell_type": "code",
      "source": [
        "import os\n",
        "import pandas as pd\n",
        "\n",
        "VeriSetiYolu = '/content/drive/My Drive/VERIYAPILARI_ISTKA/veriseti'\n",
        "\n",
        "# VeriSetiYolu içindeki .csv dosyalarını bul ve say\n",
        "csv_dosyalari = [dosya for dosya in os.listdir(VeriSetiYolu) if dosya.endswith('.csv')]\n",
        "\n",
        "# .csv dosya sayısını ekrana yazdır\n",
        "csv_dosya_sayisi = len(csv_dosyalari)\n",
        "print(f\"VeriSetiYolu içerisinde {csv_dosyalari} tane .csv dosyası bulunuyor.\")\n",
        "\n",
        "# Mevcut *.csv uzantılı dosyaların isimlerini getiriyoruz.\n",
        "print(\"Bulunan CSV Dosyaları:\")\n",
        "for dosya in csv_dosyalari:\n",
        "    print(dosya)"
      ],
      "metadata": {
        "colab": {
          "base_uri": "https://localhost:8080/"
        },
        "id": "V_dTrd8u_R4N",
        "outputId": "c1d77f67-8768-4c9b-e342-3b43ff2c64eb"
      },
      "execution_count": null,
      "outputs": [
        {
          "output_type": "stream",
          "name": "stdout",
          "text": [
            "VeriSetiYolu içerisinde ['atktan-geri-kazanm-miktarlar.csv', 'atik.csv'] tane .csv dosyası bulunuyor.\n",
            "Bulunan CSV Dosyaları:\n",
            "atktan-geri-kazanm-miktarlar.csv\n",
            "atik.csv\n"
          ]
        }
      ]
    },
    {
      "cell_type": "code",
      "source": [],
      "metadata": {
        "id": "1NsyHgj5Ai39"
      },
      "execution_count": null,
      "outputs": []
    }
  ]
}